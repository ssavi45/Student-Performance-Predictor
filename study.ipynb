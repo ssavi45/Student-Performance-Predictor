{
 "cells": [
  {
   "cell_type": "code",
   "execution_count": null,
   "id": "25ee9416",
   "metadata": {},
   "outputs": [],
   "source": [
    "# import pandas as pd"
   ]
  },
  {
   "cell_type": "code",
   "execution_count": null,
   "id": "5cb0692d",
   "metadata": {},
   "outputs": [],
   "source": [
    "#df = pd.read_csv('study.csv')"
   ]
  },
  {
   "cell_type": "code",
   "execution_count": null,
   "id": "b7d3ff2b",
   "metadata": {},
   "outputs": [],
   "source": [
    "#print(df.head())"
   ]
  },
  {
   "cell_type": "code",
   "execution_count": null,
   "id": "e582db6a",
   "metadata": {},
   "outputs": [],
   "source": [
    "#df.shape"
   ]
  },
  {
   "cell_type": "code",
   "execution_count": null,
   "id": "86480c14",
   "metadata": {},
   "outputs": [],
   "source": [
    "#df.isnull().sum()"
   ]
  },
  {
   "cell_type": "code",
   "execution_count": null,
   "id": "62c95bd1",
   "metadata": {},
   "outputs": [],
   "source": [
    "#df.info()\n",
    "#df.describe()"
   ]
  },
  {
   "cell_type": "code",
   "execution_count": null,
   "id": "23ff7fb9",
   "metadata": {},
   "outputs": [],
   "source": [
    "#df.columns"
   ]
  },
  {
   "cell_type": "code",
   "execution_count": null,
   "id": "2586c318",
   "metadata": {},
   "outputs": [],
   "source": [
    "# import numpy as np\n",
    "# import matplotlib.pyplot as plt\n",
    "# import seaborn as sns\n",
    "# import warnings as wr\n",
    "# wr.filterwarnings('ignore')"
   ]
  },
  {
   "cell_type": "code",
   "execution_count": null,
   "id": "35002f75",
   "metadata": {},
   "outputs": [],
   "source": [
    "#df.columns.tolist()"
   ]
  },
  {
   "cell_type": "code",
   "execution_count": null,
   "id": "a54c482d",
   "metadata": {},
   "outputs": [],
   "source": [
    "#df.nunique()"
   ]
  },
  {
   "cell_type": "code",
   "execution_count": null,
   "id": "ca4350f6",
   "metadata": {},
   "outputs": [],
   "source": [
    "# age_counts = df['age'].value_counts()\n",
    "\n",
    "# plt.figure(figsize=(12, 5))\n",
    "# plt.bar(age_counts.index, age_counts, color='lightblue')\n",
    "# plt.title('Count Plot of Age')\n",
    "# plt.xlabel('Age')\n",
    "# plt.ylabel('Count')\n",
    "# plt.show()"
   ]
  },
  {
   "cell_type": "code",
   "execution_count": null,
   "id": "257cb005",
   "metadata": {},
   "outputs": [],
   "source": [
    "# mjob_counts = df['M_job'].value_counts()\n",
    "\n",
    "# plt.figure(figsize=(12, 5))\n",
    "# plt.bar(mjob_counts.index, mjob_counts, color='pink')\n",
    "# plt.title('Count Plot of Mothers job')\n",
    "# plt.xlabel('Mothers Job')\n",
    "# plt.ylabel('Count')\n",
    "# plt.show()"
   ]
  },
  {
   "cell_type": "code",
   "execution_count": null,
   "id": "f4eb727c",
   "metadata": {},
   "outputs": [],
   "source": [
    "# fjob_counts = df['F_job'].value_counts()\n",
    "\n",
    "# plt.figure(figsize=(12, 5))\n",
    "# plt.bar(fjob_counts.index, fjob_counts, color='deeppink')\n",
    "# plt.title('Count Plot of Fathers job')\n",
    "# plt.xlabel('Fathers Job')\n",
    "# plt.ylabel('Count')\n",
    "# plt.show()"
   ]
  },
  {
   "cell_type": "code",
   "execution_count": null,
   "id": "b4bdf4a4",
   "metadata": {},
   "outputs": [],
   "source": [
    "# sns.set_style(\"darkgrid\")\n",
    "\n",
    "# numerical_columns = df.select_dtypes(include=[\"int64\", \"float64\"]).columns\n",
    "\n",
    "# plt.figure(figsize=(14, len(numerical_columns) * 3))\n",
    "# for idx, feature in enumerate(numerical_columns, 1):\n",
    "#     plt.subplot(len(numerical_columns), 2, idx)\n",
    "#     sns.histplot(df[feature], kde=True)\n",
    "#     plt.title(f\"{feature} | Skewness: {round(df[feature].skew(), 2)}\")\n",
    "\n",
    "# plt.tight_layout()\n",
    "# plt.show()"
   ]
  },
  {
   "cell_type": "code",
   "execution_count": null,
   "id": "a036cbc2",
   "metadata": {},
   "outputs": [],
   "source": [
    "# plt.figure(figsize=(12, 6))\n",
    "\n",
    "# sns.swarmplot(x=\"age\", y=\"hsc_result\", data=df, palette='viridis')\n",
    "\n",
    "# plt.title('Swarm Plot for Age and HSC result')\n",
    "# plt.xlabel('Age')\n",
    "# plt.ylabel('HSC Result')\n",
    "# plt.show()"
   ]
  },
  {
   "cell_type": "code",
   "execution_count": null,
   "id": "7f26776d",
   "metadata": {},
   "outputs": [],
   "source": [
    "# plt.figure(figsize=(10, 6))\n",
    "# sns.heatmap(df.select_dtypes(include='number').corr(), annot=True, fmt='.2f', cmap='Pastel2', linewidths=2)\n",
    "# plt.title('Correlation Heatmap')\n",
    "# plt.show()\n"
   ]
  },
  {
   "cell_type": "code",
   "execution_count": null,
   "id": "0383c13d",
   "metadata": {},
   "outputs": [],
   "source": [
    "# sns.set_palette(\"Pastel1\")\n",
    "\n",
    "# plt.figure(figsize=(10, 6))\n",
    "\n",
    "# sns.pairplot(df)\n",
    "\n",
    "# plt.suptitle('Pair Plot for DataFrame')\n",
    "# plt.show()"
   ]
  },
  {
   "cell_type": "code",
   "execution_count": null,
   "id": "9446d7a0",
   "metadata": {},
   "outputs": [],
   "source": [
    "# df['age_str'] = df['age'].astype(str)\n",
    "\n",
    "# unique_ages = df['age_str'].unique()\n",
    "# palette = {age: sns.color_palette(\"hsv\", len(unique_ages))[i] for i, age in enumerate(unique_ages)}\n",
    "\n",
    "# plt.figure(figsize=(10, 6))\n",
    "\n",
    "# sns.violinplot(x='age_str', y='hsc_result', data=df, palette=palette, alpha=0.7)\n",
    "\n",
    "# plt.title('Violin Plot for Age and Result')\n",
    "# plt.xlabel('Age')\n",
    "# plt.ylabel('Result')\n",
    "# plt.show()\n"
   ]
  },
  {
   "cell_type": "code",
   "execution_count": null,
   "id": "881a6c27",
   "metadata": {},
   "outputs": [],
   "source": [
    "# plt.style.use('ggplot')\n",
    "# # pd.set_option('max_columns', 200)"
   ]
  },
  {
   "cell_type": "code",
   "execution_count": null,
   "id": "b5a3b9d1",
   "metadata": {},
   "outputs": [],
   "source": []
  },
  {
   "cell_type": "code",
   "execution_count": null,
   "id": "bee5253c",
   "metadata": {},
   "outputs": [],
   "source": [
    "# df = df.rename(columns={'avarage_tution_fee_cost': 'tuition_fee'})"
   ]
  },
  {
   "cell_type": "code",
   "execution_count": null,
   "id": "581309f0",
   "metadata": {},
   "outputs": [],
   "source": [
    "# df.head()"
   ]
  },
  {
   "cell_type": "code",
   "execution_count": null,
   "id": "a8eb214b",
   "metadata": {},
   "outputs": [],
   "source": [
    "# df.duplicated().sum()"
   ]
  },
  {
   "cell_type": "code",
   "execution_count": null,
   "id": "2d846734",
   "metadata": {},
   "outputs": [],
   "source": [
    "# ax = df['ssc_result'].plot(kind='hist', bins=20, title='SSC Result Distribution', color='lightblue', edgecolor='black')\n",
    "# ax.set_xlabel('SSC Result')\n",
    "# ax.set_ylabel('Frequency')"
   ]
  },
  {
   "cell_type": "code",
   "execution_count": null,
   "id": "818cff85",
   "metadata": {},
   "outputs": [],
   "source": [
    "# ax = df['hsc_result'].plot(kind='hist', bins=20, title='HSC Result Distribution', color='lightblue', edgecolor='black')\n",
    "# ax.set_xlabel('HSC Result')\n",
    "# ax.set_ylabel('Frequency')"
   ]
  },
  {
   "cell_type": "code",
   "execution_count": null,
   "id": "568cf658",
   "metadata": {},
   "outputs": [],
   "source": [
    "# sns.scatterplot(x='ssc_result', y='time_spent_with_friends', data=df)"
   ]
  },
  {
   "cell_type": "code",
   "execution_count": null,
   "id": "e8e6d6ea",
   "metadata": {},
   "outputs": [],
   "source": [
    "# sns.scatterplot(x='tuition_fee', y='ssc_result', data=df)\n",
    "# plt.show()"
   ]
  },
  {
   "cell_type": "code",
   "execution_count": null,
   "id": "a404f551",
   "metadata": {},
   "outputs": [],
   "source": [
    "# sns.pairplot(df, vars=['age', 'M_job', 'F_job', 'tuition_fee', 'time_spent_with_friends', 'ssc_result', 'hsc_result'])"
   ]
  },
  {
   "cell_type": "code",
   "execution_count": null,
   "id": "5759c609",
   "metadata": {},
   "outputs": [],
   "source": [
    "# from ydata_profiling import ProfileReport\n",
    "\n",
    "# df = pd.read_csv('study.csv')\n",
    "# profile = ProfileReport(df, title=\"Profiling Report\")"
   ]
  }
 ],
 "metadata": {
  "kernelspec": {
   "display_name": "base",
   "language": "python",
   "name": "python3"
  },
  "language_info": {
   "codemirror_mode": {
    "name": "ipython",
    "version": 3
   },
   "file_extension": ".py",
   "mimetype": "text/x-python",
   "name": "python",
   "nbconvert_exporter": "python",
   "pygments_lexer": "ipython3",
   "version": "3.12.7"
  }
 },
 "nbformat": 4,
 "nbformat_minor": 5
}
